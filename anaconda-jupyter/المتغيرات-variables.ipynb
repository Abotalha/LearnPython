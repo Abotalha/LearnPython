{
 "cells": [
  {
   "cell_type": "code",
   "execution_count": 1,
   "id": "8dc51f5c",
   "metadata": {},
   "outputs": [
    {
     "name": "stdout",
     "output_type": "stream",
     "text": [
      "In The Name of Allah!\n"
     ]
    }
   ],
   "source": [
    "print(\"In The Name of Allah!\")"
   ]
  },
  {
   "cell_type": "code",
   "execution_count": 1,
   "id": "4fd3337c",
   "metadata": {},
   "outputs": [
    {
     "name": "stdout",
     "output_type": "stream",
     "text": [
      "X\n"
     ]
    }
   ],
   "source": [
    "print('X')"
   ]
  },
  {
   "cell_type": "code",
   "execution_count": 2,
   "id": "c725c2a7",
   "metadata": {},
   "outputs": [],
   "source": [
    "x = 10"
   ]
  },
  {
   "cell_type": "code",
   "execution_count": 3,
   "id": "96b66047",
   "metadata": {},
   "outputs": [
    {
     "ename": "SyntaxError",
     "evalue": "EOL while scanning string literal (Temp/ipykernel_3744/4090639154.py, line 1)",
     "output_type": "error",
     "traceback": [
      "\u001b[1;36m  File \u001b[1;32m\"C:\\Users\\KHALED~1\\AppData\\Local\\Temp/ipykernel_3744/4090639154.py\"\u001b[1;36m, line \u001b[1;32m1\u001b[0m\n\u001b[1;33m    print(\"x')\u001b[0m\n\u001b[1;37m              ^\u001b[0m\n\u001b[1;31mSyntaxError\u001b[0m\u001b[1;31m:\u001b[0m EOL while scanning string literal\n"
     ]
    }
   ],
   "source": [
    "print(\"x')"
   ]
  },
  {
   "cell_type": "code",
   "execution_count": 4,
   "id": "cf007e65",
   "metadata": {},
   "outputs": [
    {
     "name": "stdout",
     "output_type": "stream",
     "text": [
      "x\n"
     ]
    }
   ],
   "source": [
    "print('x')"
   ]
  },
  {
   "cell_type": "code",
   "execution_count": 5,
   "id": "7ee44173",
   "metadata": {},
   "outputs": [
    {
     "name": "stdout",
     "output_type": "stream",
     "text": [
      "10\n"
     ]
    }
   ],
   "source": [
    "print(x)"
   ]
  },
  {
   "cell_type": "code",
   "execution_count": 6,
   "id": "350942cb",
   "metadata": {},
   "outputs": [],
   "source": [
    "y = 5"
   ]
  },
  {
   "cell_type": "code",
   "execution_count": 7,
   "id": "7cbf2458",
   "metadata": {},
   "outputs": [],
   "source": [
    "z = x+ y"
   ]
  },
  {
   "cell_type": "code",
   "execution_count": 8,
   "id": "6371634c",
   "metadata": {},
   "outputs": [
    {
     "name": "stdout",
     "output_type": "stream",
     "text": [
      "15\n"
     ]
    }
   ],
   "source": [
    "print(z)"
   ]
  },
  {
   "cell_type": "code",
   "execution_count": 9,
   "id": "1353ee6b",
   "metadata": {},
   "outputs": [],
   "source": [
    "y = x"
   ]
  },
  {
   "cell_type": "code",
   "execution_count": 10,
   "id": "69c2cba1",
   "metadata": {},
   "outputs": [
    {
     "name": "stdout",
     "output_type": "stream",
     "text": [
      "10\n"
     ]
    }
   ],
   "source": [
    "print(y)"
   ]
  },
  {
   "cell_type": "code",
   "execution_count": 11,
   "id": "8f10b334",
   "metadata": {},
   "outputs": [],
   "source": [
    "x = 0"
   ]
  },
  {
   "cell_type": "code",
   "execution_count": 12,
   "id": "c375f7d5",
   "metadata": {},
   "outputs": [
    {
     "name": "stdout",
     "output_type": "stream",
     "text": [
      "10\n"
     ]
    }
   ],
   "source": [
    "print(y)"
   ]
  },
  {
   "cell_type": "code",
   "execution_count": 13,
   "id": "7c836d63",
   "metadata": {},
   "outputs": [
    {
     "ename": "TypeError",
     "evalue": "can only concatenate str (not \"int\") to str",
     "output_type": "error",
     "traceback": [
      "\u001b[1;31m---------------------------------------------------------------------------\u001b[0m",
      "\u001b[1;31mTypeError\u001b[0m                                 Traceback (most recent call last)",
      "\u001b[1;32mC:\\Users\\KHALED~1\\AppData\\Local\\Temp/ipykernel_3744/3717300797.py\u001b[0m in \u001b[0;36m<module>\u001b[1;34m\u001b[0m\n\u001b[1;32m----> 1\u001b[1;33m \u001b[0mprint\u001b[0m\u001b[1;33m(\u001b[0m\u001b[1;34m\"Sum x + y =\"\u001b[0m \u001b[1;33m+\u001b[0m \u001b[0mz\u001b[0m\u001b[1;33m)\u001b[0m\u001b[1;33m\u001b[0m\u001b[1;33m\u001b[0m\u001b[0m\n\u001b[0m",
      "\u001b[1;31mTypeError\u001b[0m: can only concatenate str (not \"int\") to str"
     ]
    }
   ],
   "source": [
    "print(\"Sum x + y =\" + z)"
   ]
  },
  {
   "cell_type": "code",
   "execution_count": 15,
   "id": "3217007a",
   "metadata": {},
   "outputs": [
    {
     "name": "stdout",
     "output_type": "stream",
     "text": [
      "Sum x + y = 15\n"
     ]
    }
   ],
   "source": [
    "print(\"Sum x + y = \" + str(z))"
   ]
  },
  {
   "cell_type": "code",
   "execution_count": 43,
   "id": "7b43c426",
   "metadata": {},
   "outputs": [],
   "source": [
    "# https://ar.wikipedia.org/wiki/عدد_فيبوناتشي\n",
    "# https://en.wikipedia.org/wiki/Fibonacci_number\n",
    "\n",
    "# عمل برنامج لإيجاد عدد فيبوناتشي\n",
    "# 0,1,1,2,3,5,8,13,21,....,n عدد فيبوناتشي\n",
    "# fib(n=8) = ?? \n",
    "\n",
    "# معلومة \n",
    "# fib(1) = 1 & fib(2)= 1\n",
    "# fib(n) = f(n-2) + fib(n-1)\n",
    "\n",
    "# Solution = الحل\n",
    "#fib(n=8) = fib(7) + fib(6)\n",
    "#fib(n=7) = fib(6) + fib(5)\n",
    "#fib(n=6) = fib(5) + fib(4)\n",
    "#fib(n=5) = fib(4) + fib(3)\n",
    "#fib(n=4) = fib(3) + fib(2)\n",
    "#fib(n=3) = fib(2) + fib(1) // معلومة\n",
    "\n",
    "#fib(n=8) =13 + 8 = 21\n",
    "#fib(n=7) = 8 + 5 = 13\n",
    "#fib(n=6) = 5 + 3 = 8\n",
    "#fib(n=5) = 3 + 2 = 5\n",
    "#fib(n=4) = 2 + 1 = 3\n",
    "#fib(n=3) = 1 + 1 = 2\n",
    "\n",
    "def fib(n):\n",
    "    if n == 1 or n == 2:\n",
    "        return 1\n",
    "    else:\n",
    "        return fib(n-2) + fib(n-1)"
   ]
  },
  {
   "cell_type": "code",
   "execution_count": 42,
   "id": "4c452899",
   "metadata": {},
   "outputs": [
    {
     "data": {
      "text/plain": [
       "21"
      ]
     },
     "execution_count": 42,
     "metadata": {},
     "output_type": "execute_result"
    }
   ],
   "source": [
    "fib(8)"
   ]
  },
  {
   "cell_type": "code",
   "execution_count": null,
   "id": "481092c1",
   "metadata": {},
   "outputs": [],
   "source": []
  }
 ],
 "metadata": {
  "kernelspec": {
   "display_name": "Python 3 (ipykernel)",
   "language": "python",
   "name": "python3"
  },
  "language_info": {
   "codemirror_mode": {
    "name": "ipython",
    "version": 3
   },
   "file_extension": ".py",
   "mimetype": "text/x-python",
   "name": "python",
   "nbconvert_exporter": "python",
   "pygments_lexer": "ipython3",
   "version": "3.9.7"
  }
 },
 "nbformat": 4,
 "nbformat_minor": 5
}
